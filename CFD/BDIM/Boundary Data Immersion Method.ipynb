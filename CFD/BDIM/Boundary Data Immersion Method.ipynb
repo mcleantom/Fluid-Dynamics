{
 "cells": [
  {
   "cell_type": "markdown",
   "metadata": {},
   "source": [
    "### 1.2 Mathematical Description of the Fluid System\n",
    "\n",
    "The primary physical system in intereste is the general luid fluid near an air-water interface. It is required that the fluid velocity $\\overrightarrow{u}$ satisfy the conservation of momentum for an incompressible invicid fluid, given by the Euler Equation as\n",
    "\n",
    "$$\n",
    "    \\frac{\\partial\\overrightarrow{u}}{\\partial t} + (\\overrightarrow{u}\\cdot\\overrightarrow{\\nabla})\\overrightarrow{u} = -\\frac{1}{\\rho}\\overrightarrow{\\nabla}p-\\overrightarrow{g} \\tag{1.1}\n",
    "$$\n",
    "\n",
    "where $p$ is the total pressure, $\\overrightarrow{g}$ is the gravitational acceleration vector and $\\rho$ is the local fluid density. For convenience, the vector $\\overrightarrow{r}$ is defined as the combination of the convective and gravitational terms, such that $(1.1)$ becomes\n",
    "\n",
    "$$\n",
    "    \\frac{\\partial\\overrightarrow{u}}{\\partial t} = \\frac{1}{\\rho}\\overrightarrow{\\nabla}p + \\overrightarrow{r} \\tag{1.2}\n",
    "$$\n",
    "\n",
    "The effects of surface tension is ignored for large-scale flows. Note that the addition of viscous terms, Large Eddy Simulation Sub-Grid Scale (LES-SGS) models, and other modelling factors can be added to this right-hand-side vector $\\overrightarrow{r}$ without altering the essence of the computational methods described. Taking the divergence of $(1.2)$ results in a variable coefficient Poisson equation for pressure of the form\n",
    "\n",
    "$$\n",
    "\\overrightarrow{\\nabla}\\cdot\\left(\\frac{1}{\\rho}\\overrightarrow{\\nabla}p\\right) = \\overrightarrow{\\nabla}\\cdot\\left(\\overrightarrow{r} - \\frac{\\partial \\overrightarrow{u}}{\\partial t}\\right)\n",
    "\\tag{1.3}\n",
    "$$\n",
    "\n",
    "The pressure field resulting from the solution of this equation is used to project the velocity field onto one that satisfies the divergence free constraint\n",
    "\n",
    "$$\n",
    "\\overrightarrow{\\nabla}\\cdot\\overrightarrow{u}=0\n",
    "\\tag{1.4}\n",
    "$$"
   ]
  },
  {
   "cell_type": "code",
   "execution_count": null,
   "metadata": {},
   "outputs": [],
   "source": []
  }
 ],
 "metadata": {
  "kernelspec": {
   "display_name": "Python 3",
   "language": "python",
   "name": "python3"
  },
  "language_info": {
   "codemirror_mode": {
    "name": "ipython",
    "version": 3
   },
   "file_extension": ".py",
   "mimetype": "text/x-python",
   "name": "python",
   "nbconvert_exporter": "python",
   "pygments_lexer": "ipython3",
   "version": "3.8.3"
  }
 },
 "nbformat": 4,
 "nbformat_minor": 4
}
