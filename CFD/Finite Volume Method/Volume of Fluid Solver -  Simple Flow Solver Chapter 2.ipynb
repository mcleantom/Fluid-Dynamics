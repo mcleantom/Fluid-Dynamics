{
 "cells": [
  {
   "cell_type": "markdown",
   "metadata": {},
   "source": [
    "## Chapter 2\n",
    "\n",
    "# Simple Flow Solver\n",
    "\n",
    "We start by describing a very simple Navier-Stokes solver for variable density flow. We will ignore surface tension, assume that the viscosities of both fluids are the same and use a first oder time integration. To solve the density advection equation\n",
    "\n",
    "$$ \n",
    "    \\frac{D\\rho}{D t} = \\frac{\\partial \\rho}{\\partial t} + \\mathbf{u} \\cdot \\nabla \\rho = 0 \n",
    "$$\n",
    "\n",
    "By starting simple we will ensure that we always have a working code and this approach will also, hopefully, help the reader develop both an understanding of the code and good programming habits.\n",
    "\n",
    "### 2.1 Governing Equations\n",
    "\n",
    "The momentum equation when surface tenison is neglected, there is no body force except gravity and the viscosity of both of the fluids is the same is\n",
    "\n",
    "$$ \\rho \\frac{\\partial \\mathbf{u}}{\\partial t} + \\rho\\nabla\\cdot\\mathbf{uu} = - \\nabla p + \\rho\\mathbf{g} + \\mu_0\\nabla^2\\mathbf{u} $$\n",
    "\n",
    "The conservation of mass equation for incompressible flow is unchanged and is given by\n",
    "\n",
    "$$ \\nabla \\cdot \\mathbf{u} = 0 $$\n",
    "\n",
    "### 2.2 Integration in Time\n",
    "\n",
    "To integrate these equations in time, we split the momentum equation by first computing the velocity field without considering the pressure\n",
    "\n",
    "$$\n",
    "    \\frac{ \\mathbf{u}^* - \\mathbf{u}^n}{\\Delta t} = - \\mathbf{A}^n + \\mathbf{g} + \\frac{1}{\\rho^n} \\mathbf{D}^n\n",
    "$$\n",
    "\n",
    "and then adding the pressure\n",
    "\n",
    "$$\n",
    "    \\frac{\\mathbf{u}^{n+1} - \\mathbf{u}^*}{\\Delta t} = -\\frac{\\nabla_h p}{\\rho^n}\n",
    "$$\n",
    "\n",
    "The pressure must be determined in such a way that the final velocity field is divergence free at the end of the time step and satifies the discrete version of the conservation of mass equation \n",
    "\n",
    "### 2.4 The Pressure Equation\n",
    "\n",
    "The pressure equation is derived by substituting the expression for the corrected velocity equations \n",
    "\n",
    "$$ \n",
    "    u^{n+1}_{i+1/2,j} = u^*_{i+1/2,j} - \\frac{\\Delta t}{\\frac{1}{2}(\\rho^n_{i+1,j} + \\rho^n_{i,j})}\\frac{p_{i+1,j}-p_{i,j}}{\\Delta x} \\\\\n",
    "    v^{n+1}_{i,j+1/2} = v^*_{i,j+1/2} - \\frac{\\Delta t}{\\frac{1}{2}(\\rho^n_{i,j+1} + \\rho^n_{i,j})}\\frac{p_{i,j+1}-p_{i,j}}{\\Delta x}\n",
    "$$\n",
    "\n",
    "into the discrete mass conservation equation\n",
    "\n",
    "$$\n",
    "    \\Delta y(u^{n+1}_{i+1/2,j} - u^{n+1}_{i-1/2,j}) + \\Delta x(v^{n+1}_{i,j+1/2} - v^{n+1}_{i,j-1/2}) = 0\n",
    "$$"
   ]
  },
  {
   "cell_type": "code",
   "execution_count": null,
   "metadata": {},
   "outputs": [],
   "source": []
  }
 ],
 "metadata": {
  "kernelspec": {
   "display_name": "Python 3",
   "language": "python",
   "name": "python3"
  },
  "language_info": {
   "codemirror_mode": {
    "name": "ipython",
    "version": 3
   },
   "file_extension": ".py",
   "mimetype": "text/x-python",
   "name": "python",
   "nbconvert_exporter": "python",
   "pygments_lexer": "ipython3",
   "version": "3.8.3"
  }
 },
 "nbformat": 4,
 "nbformat_minor": 4
}
