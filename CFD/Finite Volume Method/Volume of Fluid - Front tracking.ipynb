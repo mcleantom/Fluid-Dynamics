{
 "cells": [
  {
   "cell_type": "code",
   "execution_count": 4,
   "metadata": {},
   "outputs": [],
   "source": [
    "import numpy as np\n",
    "import matplotlib.pyplot as plt"
   ]
  },
  {
   "cell_type": "markdown",
   "metadata": {},
   "source": [
    "# Advecting the density in 2D using front tracking\n",
    "\n",
    "Instead of advecting the density directly, we can move the interface between the different fluids and reconstruct the density from its location. This is usually called \"front tracking\". Here we describe a very simple implementation of front tracking and show how to modify the code introduced in the last chaped to update the density in that way. Unlike when we advect the desntiy directly, using front tracking is a two step process: We move the boundary and then we construct the density field. In some cases we define an indecator function that is used to set the desnity and other material properties, but here we use the density as the indicator function.\n",
    "\n",
    "First, however, we have to decide how we represent the iterface. Generally the interfaces must be dynamically reconstructed by added and deleting points as the interface deforms. In three dimension the correct data structure can be critical for the successful implementation of the method. For two-dimensional flow, on the other hand, essentially any dada structure can be made to work rather easily. Here we will use a simple ordered array of points where we represent the interface by markers who coordinates are given by:\n",
    "\n",
    "$$ x_f(l) = (x(l), y(l)), l=1,....,N_f $$\n",
    "\n",
    "Since the points are ordered so that point l comes after point l-1 and before point l+1, no additional information about their connectivitiy is needed. this makes it particularly simple to compute, for example, the distance between two points\n",
    "\n",
    "$$ \\Delta_{sl,l-1} = \\sqrt{(x(l)-x(l-1))^2 + (y(l)-y(l-1))^2} $$\n",
    "\n",
    "In the coded we will carry two extra points that are identical to the first and the second point so that $x(N_f+1) = x(1)$ and $ x(N_f+2) = x(1)$ and so on. We will work with the points $l=2 \\rightarrow N_f + 1$ and use the points $1$ and $N_f+2$ as ghost points to simplify operations on the front\n",
    "\n",
    "First, lets set up the domain as we have done so before..."
   ]
  },
  {
   "cell_type": "code",
   "execution_count": 35,
   "metadata": {},
   "outputs": [],
   "source": [
    "def initial_domain(Lx=1.0, Ly=1.0, gx=0, gy=-100, rho1=1.0, rho2=2.0, m0=0.01,\n",
    "                   unorth=0, usouth=0, veast=0, vwest=0, time=0,\n",
    "                   rad=0.15, xc=0.5, yc=0.5, nx=32, ny=32, dt=0.005, nstep=300, maxit=200,\n",
    "                   maxError=0.002, beta=1.2):\n",
    "    \"\"\"\n",
    "    # Domain and physical variables\n",
    "    Lx = 1.0\n",
    "    Ly = 1.0\n",
    "    gx = 0\n",
    "    gy = -100\n",
    "    rho1 = 1.0\n",
    "    rho2 = 2.0\n",
    "    m0 = 0.01\n",
    "    rro = rho1\n",
    "    unorth = 0\n",
    "    usouth = 0\n",
    "    veast = 0\n",
    "    vwest = 0\n",
    "    time = 0.0\n",
    "\n",
    "    # Initial drop size and location\n",
    "    rad = 0.15\n",
    "    xc = 0.5\n",
    "    yc = 0.5\n",
    "\n",
    "    # Numerical variables\n",
    "    nx = 32\n",
    "    ny = 32\n",
    "    dt = 0.005\n",
    "    nstep = 300\n",
    "    maxit = 200\n",
    "    maxError = 0.002\n",
    "    beta = 1.2\n",
    "    \"\"\"\n",
    "    # Zero arrays\n",
    "    u = np.zeros((nx+1, ny+2))\n",
    "    v = np.zeros((nx+2, ny+1))\n",
    "    p = np.zeros((nx+2, ny+2))\n",
    "    ut = np.zeros((nx+1, ny+2))\n",
    "    vt = np.zeros((nx+2, ny+1))\n",
    "    tmp1 = np.zeros((nx+2, ny+2))\n",
    "    uu = np.zeros((nx+1, ny+1))\n",
    "    vv = np.zeros((nx+1, ny+1))\n",
    "    tmp2 = np.zeros((nx+2, ny+2))\n",
    "\n",
    "    # Create the grid\n",
    "    dx = Lx/nx\n",
    "    dy = Ly/ny\n",
    "    x = np.zeros(nx+2)\n",
    "    y = np.zeros(ny+2)\n",
    "\n",
    "    for i in range(len(x)):\n",
    "        x[i] = dx*(i-0.5)\n",
    "\n",
    "    for j in range(len(y)):\n",
    "        y[j] = dy*(j-0.5)\n",
    "\n",
    "    XX, YY = np.meshgrid(x, y)\n",
    "\n",
    "    in_circle = (XX-xc)**2 + (YY-yc)**2 < rad**2\n",
    "\n",
    "    r = np.zeros((len(x), len(y))) + rho1\n",
    "    r[in_circle] = rho2\n",
    "    \n",
    "    return u, v, p, ut, vt, tmp1, uu, vv, tmp2, dx, dy, x, y, r\n",
    "\n",
    "u, v, p, ut, vt, tmp1, uu, vv, tmp2, dx, dy, x, y, r = initial_domain()"
   ]
  },
  {
   "cell_type": "code",
   "execution_count": 36,
   "metadata": {},
   "outputs": [],
   "source": [
    "def makegraph(x,y,u,v,nx,ny,dx,dy,r,steps, plot_quiver=False):\n",
    "    fig = plt.figure(figsize=(3,3), dpi=150)\n",
    "    uu=0.5*(u[0:nx,1:ny+1]+u[0:nx,0:ny])\n",
    "    vv=0.5*(v[1:nx+1,0:ny]+v[0:nx,0:ny])\n",
    "    yy,xx=np.mgrid[0:(nx-1)*dx:nx*1j,0:(ny-1)*dx:ny*1j]\n",
    "    plt.contourf(x,y,r.T,5)\n",
    "    plt.colorbar\n",
    "    if plot_quiver:\n",
    "        plt.quiver(xx,yy,uu.T,vv.T)\n",
    "    plt.title('Time Step %s' %(steps))"
   ]
  },
  {
   "cell_type": "code",
   "execution_count": 37,
   "metadata": {},
   "outputs": [
    {
     "data": {
      "image/png": "[encoded data removed]",
      "text/plain": [
       "<Figure size 450x450 with 1 Axes>"
      ]
     },
     "metadata": {
      "needs_background": "light"
     },
     "output_type": "display_data"
    }
   ],
   "source": [
    "makegraph(x,y,u,v,nx,ny,dx,dy,r,0)"
   ]
  },
  {
   "cell_type": "markdown",
   "metadata": {},
   "source": [
    "Now lets set up the front"
   ]
  },
  {
   "cell_type": "code",
   "execution_count": 38,
   "metadata": {},
   "outputs": [],
   "source": [
    "def create_front_points(Nf=100):\n",
    "    xf = np.zeros(Nf+2)\n",
    "    yf = np.zeros(Nf+2)\n",
    "    for i in range(Nf+1):\n",
    "        xf[i] = xc - rad*np.sin(2.0*np.pi*i/Nf)\n",
    "        yf[i] = yc + rad*np.cos(2.0*np.pi*i/Nf)\n",
    "    return xf, yf\n",
    "\n",
    "Nf = 100\n",
    "xf, yf = create_front_points(Nf)"
   ]
  },
  {
   "cell_type": "markdown",
   "metadata": {},
   "source": [
    "Now lets modify the plotting function to show the front"
   ]
  },
  {
   "cell_type": "code",
   "execution_count": 39,
   "metadata": {},
   "outputs": [],
   "source": [
    "def makegraph(x,y,u,v,nx,ny,dx,dy,xf,yf,Nf,r,steps,plot_quiver=False):\n",
    "    fig = plt.figure(figsize=(3,3), dpi=150)\n",
    "    uu=0.5*(u[0:nx,1:ny+1]+u[0:nx,0:ny])\n",
    "    vv=0.5*(v[1:nx+1,0:ny]+v[0:nx,0:ny])\n",
    "    yy,xx=np.mgrid[0:(nx-1)*dx:nx*1j,0:(ny-1)*dx:ny*1j]\n",
    "    plt.contourf(x,y,r.T,5)\n",
    "    plt.colorbar\n",
    "    if plot_quiver:\n",
    "        plt.quiver(xx,yy,uu.T,vv.T)\n",
    "    plt.plot(xf[0:Nf+1], yf[0:Nf+1],linewidth=5.0) # New line\n",
    "    plt.title('Time Step %s' %(steps))"
   ]
  },
  {
   "cell_type": "code",
   "execution_count": 40,
   "metadata": {},
   "outputs": [
    {
     "data": {
      "image/png": "[encoded data removed]",
      "text/plain": [
       "<Figure size 450x450 with 1 Axes>"
      ]
     },
     "metadata": {
      "needs_background": "light"
     },
     "output_type": "display_data"
    }
   ],
   "source": [
    "makegraph(x, y, u, v, nx, ny, dx, dy, xf, yf, Nf, r, 0)"
   ]
  },
  {
   "cell_type": "markdown",
   "metadata": {},
   "source": [
    "## Moving the front\n",
    "\n",
    "To move the marker points we interpolate their velocitues from the velocity field given on the fixed fluid grid. Similarly, quantities such as the density jump and the surface tension are smoothed from the front onto the fixed grid. The interpolation and smoothing can be done in different ways but here we will use a bilinear interpolation and once we have determined he weights, we will use the same ones for the smoothing. Before communication between the front and the fixed grid, we need to identify the fixed grid points closes to a given point on the front. For a rectangular domain of length $L_x$, devided into $N_x$ equal sized control volumes, with the grid point where $i=1$ corresponding to $x=0$, the grid point on the left of the front point $x_f$ is given by:\n",
    "\n",
    "$$ i = FLOOR(x_f(l)/ \\Delta x)+1$$\n",
    "\n",
    "Where FLOOR stands for an operation rounding its operand down to its closes interger value. While this expression holds for the u-velocities on the grid, it must be modified for the v-velocities where the grid is splaced half a grid spacing to the left. Then we must use\n",
    "\n",
    "$$ i = FLOOR((x_f(l)+0.5\\Delta x)/\\Delta x) + 1 $$\n",
    "\n",
    "For the j-direction, we swap those.\n",
    "\n",
    "These expresssions are also used when we smooth front quantities onto the velocity. Notice that while is is trivial to find which fixed grid points are close to a given fixed point, the reverse problem is much harder. Usually it is possible to arrange the code in such a way that we need to find a fixed grid points close to a given front point, rather than the other way around.\n",
    "\n",
    "After the fixed grid points that are closes to a given location on the front have been located, we can interpolate values in the grid to the front. If we use a bilinear interpolation, then the front value $\\phi^l_f$ is given by:\n",
    "\n",
    "<img src =\"https://upload.wikimedia.org/wikipedia/commons/thumb/9/91/Bilinear_interpolation_visualisation.svg/800px-Bilinear_interpolation_visualisation.svg.png\" width=300/>\n",
    "\n",
    "$$\\phi^l_f =    \\phi_{i,j}\\left( \\frac{x_{i+1}-x_f}{\\Delta x} \\right)\\left(\\frac{y_{j+1}-y_f}{\\Delta y}\\right) +\n",
    "                \\phi_{i,j+1}\\left( \\frac{x_{i+1}-x_f}{\\Delta x} \\right)\\left(\\frac{y_f-y_j}{\\Delta y}\\right) +\n",
    "                \\phi_{i+1,j}\\left( \\frac{x_f-x_{i}}{\\Delta x} \\right)\\left(\\frac{y_{j+1}-y_f}{\\Delta y}\\right) +\n",
    "                \\phi_{i+1,j+1}\\left( \\frac{x_f-x_{i}}{\\Delta x} \\right)\\left(\\frac{y_f-y_j}{\\Delta y}\\right) $$\n",
    "\n",
    "Here $x_i$ is the x-coordinate of the vertical grid line to the left of the front point and $y_j$ is the y-coordinate of the horizontal grid line below the front point, both found using the above equation. $\\phi_{i,j}$ is the value of $\\phi$ at the gixed grid point to the left and below the front point. The weights can be interpreted as the area fractions. Bilinear interpolation is therefore often refered to as the area-weighting.\n",
    "\n",
    "With the coefficients in the equation interpreted as weights, we can rewrite it as\n",
    "\n",
    "$$\\phi^l_f = w^l_{i,j}\\phi_{i,j} + w^l_{i,j+1}\\phi_{i,j+1} + w^l_{i+1,j}\\phi_{i+1,j} + w^l_{i+1,j+1}\\phi_{i+1,j+1}$$\n",
    "\n",
    "Or in general,\n",
    "\n",
    "$$ \\phi^l_f = \\sum_{ij}{w^l_{i,j} \\phi_{i,j}}$$\n",
    "\n",
    "where \n",
    "\n",
    "$$ \\sum_{ij}{w^l_{i,j}} = 1 $$\n",
    "\n",
    "For the velocity, we apply the bilinear interpolation function to each velocity component. For staggered grids, as we are using here, usually we interpolate each component separately since they are given on different fixed grids. Once the the velocity of the front $u^n_f$ has been interpolated from the grid, the front can be moved. If we use a simple explicit first-order time integration, then the new front location is given by\n",
    "\n",
    "$$ x^{n+1}_f = x^n_f + \\Delta t u^n_f $$\n",
    "\n",
    "## Constructing the density field\n",
    "\n",
    "To find the density, given the location of the interface, we use the fact that the front marks the jump in density. In terms of a heaviside function defined by\n",
    "\n",
    "$$H = \\begin{cases}\n",
    "  1\\textrm{    fluid 1}\\\\    \n",
    "  2\\textrm{    fluid 2}    \n",
    "\\end{cases}$$\n",
    "\n",
    "The density can be written as\n",
    "\n",
    "$$ \\rho = \\rho_1 H + (1-H) \\rho_2 $$\n",
    "\n",
    "On the fixed grid the sharp jump is translated into a steep gradient. The gradient of the density can be related to the jump by writing it as:\n",
    "\n",
    "$$ \\nabla \\rho = (\\rho_1 - \\rho_2)\\nabla H = \\Delta\\rho n \\delta(n) $$\n",
    "\n",
    "Where $\\nabla \\rho = (\\rho_1-\\rho_2)$ is the jump in the value of the density across the interface (usually a constant for each interface) and we have used that $\\nabla H = \\delta(n)\\mathbf{n}$. Here $\\mathbf{n}$ is a coordinate normal to the interface. Since the front represents a $\\delta$-function, the transfer corresponds to the contruction of an approximation to this $\\delta$-function on the fixed grid. This smoothing\n",
    "can be done in several different ways, but in many cases the transferred quantity is conserved and it is important to preserve the integrated value when moving from the front to the fixed grid. The interface quantity $\\phi_f$ is usually expressed in a value per unit area (or length in two dimensions) but the grid value $\\phi_{i,j}$ should be given in terms of value per unit volume.\n",
    "\n",
    "<img src=\"smoothing_interface_quantitites.png\"/>\n",
    "\n",
    "While this is realtively obvious for quantities such as the surface force, it is true for the density gradient as well. This can be seen in the following way: Consider the domain sketeched above and integrate over the domain containing the interface. By the divergence theorem we can rewrite the integral as an integral over the boundary\n",
    "\n",
    "$$\\int_v{\\nabla pdv} = \\oint_s{\\rho\\mathbf{n}ds}$$\n",
    "\n",
    "The contour S can be written as a sum of three parts, one enclosing $\\rho_1$, another enslosing $\\rho_2$ and a third enslosing the interface, or $S = S_1 + S_2 + S_3$. Thus\n",
    "\n",
    "$$\\int_v{\\rho ds} = \\rho_1 \\oint_{s_1}{\\mathbf{n}ds} + \\rho_2\\oint_{s_2}{\\mathbf{n}ds} + \\oint_{s_l}{\\rho ds}$$\n",
    "\n",
    "The first two integrals are zero, since $\\oint{\\mathbf{n}ds}=$ and the last integral is\n",
    "\n",
    "$$\\oint_{s_l}{\\rho ds} = \\int_{-s_l}{\\rho_1\\mathbf{n}ds} + \\int_{s1}{\\rho_2\\mathbf{n}ds}=\\int{(\\rho_1 - \\rho_2)\\mathbf{n}ds}$$\n",
    "\n",
    "Therefore\n",
    "\n",
    "$$\\int_V{\\nabla\\rho dv} = \\int_{S_I}{\\Delta\\rho\\mathbf{n}ds}$$\n",
    "\n",
    "where $\\Delta\\rho = \\rho_1 - \\rho_2$\n",
    "\n",
    "This can be generalied for any conserved variable $\\rho$ and to ensure that the total value is conserved in the smoothing, we must require that:\n",
    "\n",
    "$$\\int_{\\Delta_v}{\\phi_{i,j}(x)dv} = \\int_{\\Delta_s}{\\phi_f(s)ds}$$\n",
    "\n",
    "Where $\\Delta s$ is the area (length in two dimensions) of the interface that is smoothed to volume $\\Delta v$ (area in two dimensions). For two-dimensionsal flow, the discrete form of the grid value is therefore given by\n",
    "\n",
    "$$ \\phi_{i,j} = \\sum_l{\\phi^l_f w^l_{i,j}\\frac{\\Delta s_l}{\\Delta x \\Delta y}} $$\n",
    "\n",
    "Where $\\Delta s_l$ is the area of element $l$ and $\\Delta x$ and $\\Delta y$ are the grid spacings. Here we will use the same weights, $w^l_{i,j}$ for the smoothing as used for the interpolation.\n",
    "\n",
    "<img src=\"density field.png\"/>\n",
    "\n",
    "We can, at least in principle, integrate the desnity gradient directly from a point where the density is known. If we distribute the gradient onto a staggered grid, the x-gradient is avaliable at points $(i-1/2,j)$ and so on and if the desnity at $(i-1,j)$ is known, then\n",
    "\n",
    "$$\\rho_{i,j} = \\rho_{i-1,j} + \\Delta x\\left(\\frac{\\partial\\rho}{\\partial x}\\right)_{i-1/2,j}$$\n",
    "\n",
    "By repeated application of this equation, we can construct the density value everywhere, provided we start at a point where the density field is know. Although this operation only has to be performed at points near the front, since the density away from the front has not changed we need to find a point from which to integreate. The density field can also depend slightly on the direction in which the integration is done and errors can accumulate if we integrate over several grid points, so that the value of the density on the other side of the interface may not be correct.\n",
    "\n",
    "To get a more symmetric expression for the density at $(i,j)$ we can integrate the density gradient from the other three grid points $(i+1,j), (i,j+1)$ and $(i,j-1)$ and average the results. The results can be rearranged to obtain\n",
    "\n",
    "$$\\rho_{i,j} = 0.25\\Bigg\\{\\rho_{i-1,j}+\\rho_{i+1,j}+\\rho_{i,j-1}+\\rho_{i,j+1}+\\Delta x \\left(\\left(\\frac{\\partial \\rho}{\\partial x}\\right)_{i-1/2,j} - \\left(\\frac{\\partial \\rho}{\\partial x}\\right)_{i+1/2,j}\\right) + \\Delta y \\left(\\left(\\frac{\\partial \\rho}{\\partial y}\\right)_{i,j-1/2} - \\left(\\frac{\\partial \\rho}{\\partial y}\\right)_{i,j+1/2}\\right)\\Bigg\\}$$\n",
    "\n",
    "Which can be iterated to solve for $\\rho_{i,j]$. This iteration can be accelerated using SOR or more advanced iterative techniques. In the code presented here, we update the density at every point in the domain, but in more advanced codes we can limit the updating to the vicinity of the interface. Iterating over the entire domain can generally spread out the error, so we can end up with errors in the density away from the interface, if we stop before obtaining full convergenece. Thus, limiting the iterations to only the points close to the interface is generally much more efficient.\n",
    "\n",
    "One might be tempted to ask, why the rather elaborate approach to construct the density from the front location? Would it not be simpler to simply run over the front and set the density at the fixed grid points as a function of the minimum distance from the front? The answer is primarily that the present approach allows us to automatically deal with situations where two interfaces occupy the same grid cell. By working with the gradients, which cancel on the fixed grid, the ambiguity of setting the value of a grid point next to a double interface disappears.\n",
    "\n",
    "## Reconstructing the front\n",
    "\n",
    "Since the velocity of front points varies, generally the distance between front points will change as they move. They can, in particular, move sufficiently far apart so that the front is no longer well resolved. The points can also move close together and it is usually useful to delete points that crowd together, although it is not as important as adding points.\n",
    "\n",
    "For an interface in a two-dimensional flow, consisting of ordered points, adding and deleting points is straightforward. We start by copying the front information (the coordinates of the points) into a temparty array $X_{old}$ and then copy the points back into the original array one by one, checking the distance between the point we are copying and the last point that we copied. If the distance between the points is too large, we create a new point half way between the two and put it where the next point should go. Once that is done, we copy our point into the next empty location of the original array. If the distance is less han a prescribed minimum, we do not copy the array and we move into the next point. If the distance is above the minimum distance and below the maximum distance, we copy the point directly into the new array. In this approach, the number of front points will generally change, depending on how many points we add or delete. In order to close the front, we set the location of the last point equal to the first one.\n",
    "\n",
    "In the sample code, we use linear interpolation to find the location of the new point, when we need to add one. Generally, it is better to use a higher order interpolation, particularly when surface tension is included. When the front is represented by an unstructured grid - as are needed for three-dimensional flows - a more elaborate approach is generally necessary.\n",
    "\n",
    "The most obvious place to restructure the front is right after we have moved it and before we distribute the gradients. For the second order order code, however, we take two steps then average the results. We can only restructure the front once per timestep and thus we will move it to a different place."
   ]
  },
  {
   "cell_type": "code",
   "execution_count": null,
   "metadata": {},
   "outputs": [],
   "source": []
  }
 ],
 "metadata": {
  "kernelspec": {
   "display_name": "Python 3",
   "language": "python",
   "name": "python3"
  },
  "language_info": {
   "codemirror_mode": {
    "name": "ipython",
    "version": 3
   },
   "file_extension": ".py",
   "mimetype": "text/x-python",
   "name": "python",
   "nbconvert_exporter": "python",
   "pygments_lexer": "ipython3",
   "version": "3.8.3"
  }
 },
 "nbformat": 4,
 "nbformat_minor": 4
}
